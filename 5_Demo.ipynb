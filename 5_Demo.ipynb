{
 "cells": [
  {
   "metadata": {},
   "cell_type": "markdown",
   "source": "If your training is finished or if you have loaded my training weights, time for the demonstration!",
   "id": "a4487c20587f32c9"
  },
  {
   "cell_type": "code",
   "id": "initial_id",
   "metadata": {
    "collapsed": true,
    "ExecuteTime": {
     "end_time": "2025-08-22T03:05:06.176068Z",
     "start_time": "2025-08-22T03:05:03.338544Z"
    }
   },
   "source": [
    "import os\n",
    "import torch\n",
    "import numpy as np\n",
    "from PIL import Image\n",
    "import matplotlib.pyplot as plt\n",
    "import torchvision.models as models\n",
    "import torch.nn as nn"
   ],
   "outputs": [],
   "execution_count": 1
  },
  {
   "metadata": {},
   "cell_type": "markdown",
   "source": "To start, let's redefine our backbone.",
   "id": "d9e590705058849e"
  },
  {
   "metadata": {
    "ExecuteTime": {
     "end_time": "2025-08-22T03:05:37.636387Z",
     "start_time": "2025-08-22T03:05:37.626240Z"
    }
   },
   "cell_type": "code",
   "source": [
    "class KeypointDetector(nn.Module):\n",
    "    def __init__(self, backbone='resnet18', pretrained=True):\n",
    "        super().__init__()\n",
    "        if backbone == 'resnet18':\n",
    "            if pretrained:\n",
    "                self.backbone = models.resnet18(weights=models.ResNet18_Weights.DEFAULT)\n",
    "            else:\n",
    "                self.backbone = models.resnet18(weights=None)\n",
    "            self.backbone = nn.Sequential(*list(self.backbone.children())[:-2])\n",
    "            backbone_features = 512\n",
    "        elif backbone == 'resnet34':\n",
    "            if pretrained:\n",
    "                self.backbone = models.resnet34(weights=models.ResNet34_Weights.DEFAULT)\n",
    "            else:\n",
    "                self.backbone = models.resnet34(weights=None)\n",
    "            self.backbone = nn.Sequential(*list(self.backbone.children())[:-2])\n",
    "            backbone_features = 512\n",
    "        elif backbone == 'resnet50':\n",
    "            if pretrained:\n",
    "                self.backbone = models.resnet50(weights=models.ResNet50_Weights.DEFAULT)\n",
    "            else:\n",
    "                self.backbone = models.resnet50(weights=None)\n",
    "            self.backbone = nn.Sequential(*list(self.backbone.children())[:-2])\n",
    "            backbone_features = 2048\n",
    "\n",
    "        self.upsample = nn.Sequential(\n",
    "            nn.ConvTranspose2d(backbone_features, 256, kernel_size=4, stride=2, padding=1),\n",
    "            nn.BatchNorm2d(256),\n",
    "            nn.ReLU(inplace=True),\n",
    "            nn.Dropout2d(0.1),\n",
    "            nn.ConvTranspose2d(256, 128, kernel_size=4, stride=2, padding=1),\n",
    "            nn.BatchNorm2d(128),\n",
    "            nn.ReLU(inplace=True),\n",
    "            nn.Dropout2d(0.1),\n",
    "            nn.ConvTranspose2d(128, 64, kernel_size=4, stride=2, padding=1),\n",
    "            nn.BatchNorm2d(64),\n",
    "            nn.ReLU(inplace=True),\n",
    "            nn.Dropout2d(0.1),\n",
    "            nn.ConvTranspose2d(64, 32, kernel_size=4, stride=2, padding=1),\n",
    "            nn.BatchNorm2d(32),\n",
    "            nn.ReLU(inplace=True),\n",
    "            nn.ConvTranspose2d(32, 16, kernel_size=4, stride=2, padding=1),\n",
    "            nn.BatchNorm2d(16),\n",
    "            nn.ReLU(inplace=True),\n",
    "            nn.Conv2d(16, 2, kernel_size=3, padding=1),\n",
    "            nn.Sigmoid()\n",
    "        )\n",
    "\n",
    "    def forward(self, x):\n",
    "        features = self.backbone(x)\n",
    "        heatmaps = self.upsample(features)\n",
    "        return heatmaps\n"
   ],
   "id": "5849b194ac178162",
   "outputs": [],
   "execution_count": 2
  },
  {
   "metadata": {},
   "cell_type": "markdown",
   "source": "And to conclude, I'll let you set the paths for your image that contains a datamatrix code and your training weights by filling in \"image_path\" and \"model_weights_path\". You will thus save the predicted heatmaps of the black cells only and of all cells by our model of the datamatrix present in the image!",
   "id": "bfaba8b2097023f"
  },
  {
   "metadata": {
    "ExecuteTime": {
     "end_time": "2025-08-22T03:10:17.103421Z",
     "start_time": "2025-08-22T03:10:15.837470Z"
    }
   },
   "cell_type": "code",
   "source": [
    "image_path = \"image.jpg\"\n",
    "model_weights_path = \"best_model_epoch_011.pth\"\n",
    "\n",
    "\n",
    "model = KeypointDetector(backbone='resnet18', pretrained=False)\n",
    "device = torch.device('cuda' if torch.cuda.is_available() else 'cpu')\n",
    "checkpoint = torch.load(model_weights_path, map_location=device)\n",
    "model.load_state_dict(checkpoint['model_state_dict'])\n",
    "model = model.to(device)\n",
    "model.eval()\n",
    "\n",
    "\n",
    "image = Image.open(image_path).convert('RGB')\n",
    "image = image.resize((512, 512), Image.LANCZOS)\n",
    "image_tensor = torch.from_numpy(np.array(image)).permute(2, 0, 1).float() / 255.0\n",
    "image_tensor = image_tensor.unsqueeze(0).to(device)\n",
    "\n",
    "\n",
    "with torch.no_grad():\n",
    "    outputs = model(image_tensor)\n",
    "\n",
    "heatmap_black = outputs[0, 0].cpu().numpy()\n",
    "heatmap_white = outputs[0, 1].cpu().numpy()\n",
    "\n",
    "base_name = os.path.splitext(os.path.basename(image_path))[0]\n",
    "\n",
    "\n",
    "combined_heatmap = np.zeros((512, 512, 3))\n",
    "combined_heatmap[:, :, 0] = heatmap_black\n",
    "combined_heatmap[:, :, 2] = heatmap_white\n",
    "\n",
    "plt.figure(figsize=(8, 8))\n",
    "plt.imshow(combined_heatmap, vmin=0, vmax=1)\n",
    "plt.axis('off')\n",
    "plt.savefig(f\"{base_name}_heatmap.png\", dpi=150, bbox_inches='tight', pad_inches=0)\n",
    "plt.close()\n",
    "\n",
    "\n",
    "plt.figure(figsize=(8, 8))\n",
    "plt.imshow(heatmap_black, cmap='Reds', vmin=0, vmax=1)\n",
    "plt.axis('off')\n",
    "plt.savefig(f\"{base_name}_black_cells.png\", dpi=150, bbox_inches='tight', pad_inches=0)\n",
    "plt.close()"
   ],
   "id": "ed9b05ab235f66a",
   "outputs": [],
   "execution_count": 3
  },
  {
   "metadata": {},
   "cell_type": "code",
   "outputs": [],
   "execution_count": null,
   "source": "",
   "id": "5d7008f1a7162460"
  }
 ],
 "metadata": {
  "kernelspec": {
   "display_name": "Python 3",
   "language": "python",
   "name": "python3"
  },
  "language_info": {
   "codemirror_mode": {
    "name": "ipython",
    "version": 2
   },
   "file_extension": ".py",
   "mimetype": "text/x-python",
   "name": "python",
   "nbconvert_exporter": "python",
   "pygments_lexer": "ipython2",
   "version": "2.7.6"
  }
 },
 "nbformat": 4,
 "nbformat_minor": 5
}
